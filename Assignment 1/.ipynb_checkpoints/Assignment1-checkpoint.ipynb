{
 "cells": [
  {
   "cell_type": "code",
   "execution_count": null,
   "id": "18b985d5-9b03-4a2c-8e39-deaa9822a7c9",
   "metadata": {
    "scrolled": true,
    "tags": []
   },
   "outputs": [],
   "source": []
  },
  {
   "cell_type": "code",
   "execution_count": null,
   "id": "73dc01fc-b7fa-42d5-a85a-a0c0e4921958",
   "metadata": {
    "tags": []
   },
   "outputs": [],
   "source": []
  },
  {
   "cell_type": "code",
   "execution_count": null,
   "id": "63efd16e-4bbe-4433-b182-72bb2a7edcda",
   "metadata": {
    "tags": []
   },
   "outputs": [],
   "source": []
  },
  {
   "cell_type": "code",
   "execution_count": 64,
   "id": "53af3b88-c738-475a-85d7-af25d930acfe",
   "metadata": {
    "tags": []
   },
   "outputs": [
    {
     "data": {
      "image/png": "[encoded data removed]",
      "text/plain": [
       "<Figure size 640x480 with 1 Axes>"
      ]
     },
     "metadata": {},
     "output_type": "display_data"
    }
   ],
   "source": [
    "# import modules \n",
    "import numpy as np \n",
    "import matplotlib.pyplot as plt \n",
    "import pandas as pd \n",
    "import random\n",
    "k = 10    #number of arms\n",
    "T = 1000  #horizon  \n",
    "N = 20    #explore rounds\n",
    "bandit = np.random.random((k,)) #success prob. for each arm\n",
    "best = np.amax(bandit) #best arm\n",
    "#print('best arm = %d' %np.argmax(bandit))\n",
    "\n",
    "regret_eg =  np.zeros((T,)) #regret_eg for round t\n",
    "\n",
    "\n",
    "#bandit reward distribution\n",
    "a = np.random.uniform(0,1,(k,));\n",
    "b = np.zeros((k,));\n",
    "for i in range(k):\n",
    "    b[i]=np.random.uniform(a[i],1)\n",
    "    \n",
    "mean = (a+b)/2\n",
    "best_arm = np.argmax(mean)\n",
    "\n",
    "#this code implements e-greedy algorithm\n",
    "epsilon = 1; \n",
    "t = 0;\n",
    "bandit_scores_eg = np.zeros((k,T)) #total score of each arm for T rounds\n",
    "inst_score_eg = np.zeros((T,)) #reward for round t\n",
    "alg_score_eg = np.zeros((T,)) #cumulative reward for round t\n",
    "regret_eg =  np.zeros((T,)) #regret_eg for round t\n",
    "T_regret_eg = 0 #regret_eg after t rounds\n",
    "mu_estimate_eg = np.zeros((k,)) #estimate of each arm \n",
    "cum_score_eg = 0 #cumulative score\n",
    "\n",
    "\n",
    "for t in range(T):\n",
    "    chance = np.random.uniform(0,1);\n",
    "    if chance < epsilon :\n",
    "        bandit_i  = np.random.randint(0,high=k-1)\n",
    "    else :\n",
    "        bandit_i = np.argmax(mu_estimate_eg) \n",
    "        \n",
    "    score = np.random.uniform(a[bandit_i], b[bandit_i])\n",
    "    inst_score_eg[t] = score\n",
    "    alg_score_eg[t] = cum_score_eg + score\n",
    "    cum_score_eg += score\n",
    "    regret_eg[t] = (t+1)*mean[best_arm] - cum_score_eg\n",
    "    bandit_scores_eg[bandit_i,t] = score\n",
    "    mu_estimate_eg[bandit_i] = np.sum(bandit_scores_eg[bandit_i])/np.count_nonzero(bandit_scores_eg[bandit_i])\n",
    "    \n",
    "    epsilon = ((t+1)**(-1/3))*((k*np.log(t+1))**(1/3))\n",
    "    \n",
    "    \n",
    "T_regret_eg = T*mean[best_arm] - np.sum(inst_score_eg)\n",
    "\n",
    "\n",
    "#this code implements UCB algorithm\n",
    "t = 0;\n",
    "bandit_scores_ucb = np.zeros((k,T)) #total score of each arm for T rounds\n",
    "inst_score_ucb = np.zeros((T,)) #reward for round t\n",
    "alg_score_ucb = np.zeros((T,)) #cumulative reward for round t\n",
    "regret_ucb =  np.zeros((T,)) #regret_eg for round t\n",
    "T_regret_ucb = 0 #regret_eg after t rounds\n",
    "mu_estimate_ucb = np.zeros((k,)) #estimate of each arm\n",
    "q_estimate = np.zeros((k,))\n",
    "X = np.zeros((k,))\n",
    "cum_score_ucb = 0 #cumulative score\n",
    "ucb = np.zeros((k,)) + np.Inf\n",
    "\n",
    "chosen_bandits = np.zeros((T,))\n",
    "for t in range(T):\n",
    "    \n",
    "    bandit_i = np.argmax(ucb)\n",
    "    chosen_bandits[t] = bandit_i\n",
    "    \n",
    "    score = np.random.uniform(a[bandit_i], b[bandit_i])\n",
    "    inst_score_ucb[t] = score\n",
    "    alg_score_ucb[t] = cum_score_ucb + score\n",
    "    cum_score_ucb += score\n",
    "    regret_ucb[t] = (t+1)*mean[best_arm] - cum_score_ucb\n",
    "    bandit_scores_ucb[bandit_i,t] = score\n",
    "    \n",
    "    X[bandit_i] = np.count_nonzero(bandit_scores_ucb[bandit_i])\n",
    "    q_estimate[bandit_i] = np.sum(X[bandit_i])\n",
    "    mu_estimate_ucb[bandit_i] = np.sum(bandit_scores_ucb[bandit_i])/q_estimate[bandit_i]\n",
    "    ucb[bandit_i] = mu_estimate_ucb[bandit_i] + np.sqrt(np.log(T)/q_estimate[bandit_i])\n",
    "    \n",
    "    \n",
    "T_regret_ucb = T*mean[best_arm] - np.sum(inst_score_eg)\n",
    "\n",
    "\n",
    "\"\"\"\n",
    "plt.plot(np.arange(1,T+1),alg_score_eg)\n",
    "plt.plot(np.arange(1,T+1),alg_score_ucb)\n",
    "plt.xlabel(\"Round T\")\n",
    "plt.ylabel(\"Total score\") \n",
    "plt.show()\n",
    "\"\"\"\n",
    "\n",
    "plt.plot(np.arange(1,T+1),regret_eg,'r')\n",
    "plt.plot(np.arange(1,T+1),regret_ucb,'b')\n",
    "plt.xlabel(\"Round T\")\n",
    "plt.ylabel(\"Regret\") \n",
    "plt.show()"
   ]
  },
  {
   "cell_type": "code",
   "execution_count": 65,
   "id": "9b904ec0-1506-4f95-9ba3-2cd6d4786939",
   "metadata": {},
   "outputs": [
    {
     "data": {
      "text/plain": [
       "array([0., 1., 2., 3., 4., 5., 6., 7., 8., 9., 8., 7., 6., 1., 2., 4., 9.,\n",
       "       0., 5., 3., 8., 7., 6., 1., 2., 8., 4., 7., 6., 1., 9., 0., 2., 8.,\n",
       "       7., 6., 1., 8., 4., 7., 5., 6., 2., 0., 3., 9., 8., 1., 7., 6., 2.,\n",
       "       8., 7., 4., 1., 6., 8., 7., 9., 6., 0., 1., 2., 8., 7., 4., 5., 6.,\n",
       "       8., 7., 1., 8., 6., 7., 2., 1., 8., 3., 6., 7., 9., 8., 2., 1., 7.,\n",
       "       6., 4., 0., 8., 7., 6., 1., 8., 9., 2., 7., 6., 8., 1., 7., 6., 8.,\n",
       "       4., 5., 7., 1., 6., 8., 2., 7., 9., 8., 6., 7., 1., 8., 2., 6., 7.,\n",
       "       8., 1., 7., 2., 4., 6., 0., 9., 8., 1., 3., 7., 0., 6., 8., 1., 7.,\n",
       "       8., 6., 7., 1., 8., 6., 4., 2., 7., 8., 1., 6., 7., 8., 5., 7., 8.,\n",
       "       6., 1., 9., 7., 8., 6., 0., 7., 1., 8., 2., 4., 6., 7., 8., 1., 6.,\n",
       "       7., 8., 2., 7., 1., 8., 9., 6., 7., 8., 6., 1., 8., 7., 6., 1., 2.,\n",
       "       8., 7., 4., 6., 8., 7., 1., 8., 6., 7., 1., 8., 7., 2., 6., 3., 8.,\n",
       "       7., 1., 6., 8., 7., 9., 6., 4., 8., 7., 0., 1., 8., 6., 2., 5., 7.,\n",
       "       1., 8., 6., 7., 8., 7., 6., 8., 1., 7., 8., 6., 7., 8., 6., 7., 1.,\n",
       "       8., 2., 7., 6., 8., 1., 4., 7., 8., 6., 1., 7., 8., 6., 9., 7., 8.,\n",
       "       6., 8., 7., 1., 6., 8., 7., 8., 7., 6., 1., 8., 2., 7., 6., 8., 7.,\n",
       "       6., 8., 7., 1., 0., 8., 4., 6., 7., 1., 8., 6., 7., 8., 7., 6., 8.,\n",
       "       7., 1., 8., 6., 7., 2., 8., 6., 7., 8., 9., 1., 0., 5., 7., 6., 8.,\n",
       "       7., 8., 6., 1., 7., 8., 2., 6., 7., 3., 8., 4., 1., 7., 6., 8., 7.,\n",
       "       8., 6., 1., 8., 7., 6., 2., 8., 7., 9., 6., 1., 8., 7., 6., 8., 7.,\n",
       "       8., 1., 6., 7., 8., 7., 6., 8., 1., 7., 6., 8., 7., 1., 8., 6., 7.,\n",
       "       4., 8., 9., 2., 6., 7., 8., 1., 7., 8., 6., 7., 8., 6., 7., 8., 1.,\n",
       "       7., 6., 8., 8., 7., 6., 8., 7., 6., 1., 8., 7., 6., 8., 7., 8., 6.,\n",
       "       1., 7., 8., 2., 7., 0., 6., 8., 4., 7., 1., 8., 6., 7., 8., 6., 7.,\n",
       "       8., 7., 8., 6., 1., 7., 8., 6., 7., 8., 7., 6., 8., 1., 8., 7., 6.,\n",
       "       8., 7., 1., 2., 9., 5., 6., 8., 7., 2., 8., 7., 6., 8., 1., 7., 6.,\n",
       "       8., 7., 1., 6., 8., 7., 8., 4., 6., 7., 0., 8., 7., 1., 6., 8., 7.,\n",
       "       8., 2., 1., 6., 7., 8., 7., 8., 6., 1., 7., 9., 8., 6., 8., 7., 8.,\n",
       "       7., 6., 1., 8., 7., 6., 8., 7., 1., 8., 6., 7., 8., 7., 6., 8., 7.,\n",
       "       8., 1., 4., 6., 7., 8., 7., 6., 8., 1., 2., 7., 8., 6., 7., 8., 8.,\n",
       "       7., 6., 8., 1., 7., 6., 8., 7., 3., 8., 6., 7., 8., 7., 6., 8., 2.,\n",
       "       1., 7., 8., 6., 7., 8., 7., 0., 6., 8., 1., 7., 8., 6., 7., 8., 6.,\n",
       "       8., 7., 8., 1., 7., 6., 8., 7., 8., 7., 6., 8., 7., 1., 8., 6., 7.,\n",
       "       4., 8., 9., 7., 8., 6., 7., 8., 1., 6., 7., 8., 7., 8., 6., 1., 8.,\n",
       "       7., 8., 6., 7., 2., 8., 7., 6., 1., 8., 7., 6., 8., 7., 8., 6., 7.,\n",
       "       8., 7., 6., 8., 1., 7., 8., 2., 6., 7., 1., 8., 7., 8., 6., 8., 7.,\n",
       "       5., 6., 8., 7., 4., 8., 7., 6., 1., 8., 7., 8., 6., 7., 8., 7., 6.,\n",
       "       8., 7., 1., 8., 6., 7., 8., 6., 7., 8., 7., 8., 1., 6., 7., 8., 6.,\n",
       "       7., 8., 0., 8., 7., 6., 8., 7., 1., 6., 8., 7., 8., 6., 7., 8., 7.,\n",
       "       8., 6., 7., 8., 1., 2., 7., 8., 6., 9., 7., 8., 6., 8., 7., 8., 6.,\n",
       "       7., 2., 8., 1., 7., 6., 8., 7., 8., 7., 6., 8., 7., 8., 2., 6., 7.,\n",
       "       8., 1., 2., 8., 7., 6., 8., 7., 4., 6., 8., 7., 1., 9., 8., 7., 2.,\n",
       "       6., 8., 7., 8., 6., 7., 8., 7., 8., 6., 1., 8., 7., 6., 8., 7., 8.,\n",
       "       7., 6., 8., 7., 8., 7., 6., 8., 1., 7., 8., 6., 7., 8., 6., 1., 7.,\n",
       "       8., 7., 8., 6., 7., 8., 2., 1., 8., 7., 6., 8., 7., 6., 8., 7., 1.,\n",
       "       4., 8., 6., 7., 8., 1., 7., 8., 6., 7., 1., 8., 7., 8., 6., 9., 7.,\n",
       "       8., 6., 8., 7., 8., 7., 6., 8., 7., 1., 8., 6., 7., 8., 7., 6., 8.,\n",
       "       7., 8., 6., 8., 7., 1., 8., 7., 6., 8., 7., 8., 7., 6., 8., 7., 6.,\n",
       "       8., 1., 7., 8., 6., 1., 7., 8., 2., 7., 8., 6., 7., 8., 6., 7., 8.,\n",
       "       7., 8., 6., 8., 7., 1., 8., 7., 6., 8., 1., 7., 8., 6., 7., 8., 7.,\n",
       "       8., 6., 7., 8., 1., 7., 8., 4., 6., 8., 7., 8., 6., 7., 8., 1., 0.,\n",
       "       7., 8., 6., 7., 8., 6., 7., 8., 7., 8., 6., 3., 7., 8., 1., 7., 8.,\n",
       "       6., 7., 8., 1., 6., 8., 7., 2., 8., 6., 7., 5., 8., 7., 6., 8., 7.,\n",
       "       8., 6., 7., 8., 7., 1., 8., 6., 7., 8., 6., 1., 7., 8., 8., 7., 6.,\n",
       "       1., 8., 7., 6., 8., 7., 9., 8., 6., 7., 8., 7., 8., 1., 6., 7., 8.,\n",
       "       8., 7., 6., 8., 7., 1., 8., 7., 6., 8., 7., 8., 6., 1., 7., 8., 7.,\n",
       "       8., 6., 7., 8., 6., 8., 7., 8., 1., 7., 0., 4., 6., 8., 7., 8., 6.,\n",
       "       7., 8., 7., 1., 8., 6., 7., 8., 1., 6., 7., 8., 7., 6., 8., 1., 8.,\n",
       "       7., 6., 2., 8., 7., 8., 7., 6., 8., 7., 8., 1., 7., 6.])"
      ]
     },
     "execution_count": 65,
     "metadata": {},
     "output_type": "execute_result"
    }
   ],
   "source": [
    "chosen_bandits\n"
   ]
  },
  {
   "cell_type": "code",
   "execution_count": null,
   "id": "d7c4470d",
   "metadata": {},
   "outputs": [],
   "source": []
  },
  {
   "cell_type": "code",
   "execution_count": null,
   "id": "1e4a4b21",
   "metadata": {},
   "outputs": [],
   "source": []
  },
  {
   "cell_type": "code",
   "execution_count": null,
   "id": "bcd372fd",
   "metadata": {},
   "outputs": [],
   "source": []
  }
 ],
 "metadata": {
  "kernelspec": {
   "display_name": "Python 3 (ipykernel)",
   "language": "python",
   "name": "python3"
  },
  "language_info": {
   "codemirror_mode": {
    "name": "ipython",
    "version": 3
   },
   "file_extension": ".py",
   "mimetype": "text/x-python",
   "name": "python",
   "nbconvert_exporter": "python",
   "pygments_lexer": "ipython3",
   "version": "3.11.2"
  }
 },
 "nbformat": 4,
 "nbformat_minor": 5
}
